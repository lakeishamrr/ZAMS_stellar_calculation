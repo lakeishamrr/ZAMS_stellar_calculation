{
 "cells": [
  {
   "cell_type": "code",
   "execution_count": 1136,
   "id": "da9e29e9",
   "metadata": {},
   "outputs": [],
   "source": [
    "import pandas as pd\n",
    "import numpy as np\n",
    "import matplotlib.pyplot as plt\n",
    "import math\n",
    "import scipy\n",
    "from scipy.integrate import solve_ivp\n",
    "from scipy import optimize\n",
    "from scipy.optimize import least_squares\n",
    "from scipy.interpolate import griddata\n",
    "import constants as const\n",
    "from scipy.constants import N_A"
   ]
  },
  {
   "cell_type": "code",
   "execution_count": 1137,
   "id": "99b377a7",
   "metadata": {},
   "outputs": [],
   "source": [
    "Msun = 1.988*1e33\n",
    "M = 3*Msun\n",
    "Rsun = 6.96e10\n",
    "Lsun = 3.826e33\n",
    "X = 0.3500\n",
    "Y = 0.5500\n",
    "Z = 1 - X - Y #Z=0.1000 \n",
    "#We're using Table #52 from OPAL "
   ]
  },
  {
   "cell_type": "code",
   "execution_count": 1138,
   "id": "b76332c3",
   "metadata": {},
   "outputs": [],
   "source": [
    "def txttodf(filename):\n",
    "    with open(filename) as f:\n",
    "        lines = f.readlines()\n",
    "    \n",
    "    dict = {}\n",
    "    for k in range(126):\n",
    "        arr = []\n",
    "        log_T = []\n",
    "        table_name = 'Table '+str(k+1)\n",
    "        for j in range(70):\n",
    "            arr1 = []\n",
    "            for i in lines[6+77*k+j].split()[1:]: arr1.append(float(i))\n",
    "            log_T.append(float(lines[6+77*k+j].split()[0]))\n",
    "            arr.append(np.array(arr1))\n",
    "            dict[table_name] = pd.DataFrame(arr)\n",
    "    \n",
    "    log_R = []\n",
    "    for i in lines[4].split()[1:]: log_R.append(float(i))\n",
    "    \n",
    "    return dict, log_R, log_T"
   ]
  },
  {
   "cell_type": "code",
   "execution_count": 1139,
   "id": "77f0f966",
   "metadata": {},
   "outputs": [],
   "source": [
    "filename = 'GN93hz.txt' \n",
    "diction, logR_Table, logT_Table = txttodf(filename) \n",
    "T52 = diction['Table 52'] \n",
    "opacity_T = T52.to_numpy()"
   ]
  },
  {
   "cell_type": "code",
   "execution_count": 1140,
   "id": "cc47a12f",
   "metadata": {},
   "outputs": [
    {
     "data": {
      "text/plain": [
       "array([3.75, 3.8 , 3.85, 3.9 , 3.95, 4.  , 4.05, 4.1 , 4.15, 4.2 , 4.25,\n",
       "       4.3 , 4.35, 4.4 , 4.45, 4.5 , 4.55, 4.6 , 4.65, 4.7 , 4.75, 4.8 ,\n",
       "       4.85, 4.9 , 4.95, 5.  , 5.05, 5.1 , 5.15, 5.2 , 5.25, 5.3 , 5.35,\n",
       "       5.4 , 5.45, 5.5 , 5.55, 5.6 , 5.65, 5.7 , 5.75, 5.8 , 5.85, 5.9 ,\n",
       "       5.95, 6.  , 6.1 , 6.2 , 6.3 , 6.4 , 6.5 , 6.6 , 6.7 , 6.8 , 6.9 ,\n",
       "       7.  , 7.1 , 7.2 , 7.3 , 7.4 , 7.5 , 7.6 , 7.7 , 7.8 , 7.9 , 8.  ,\n",
       "       8.1 , 8.3 , 8.5 , 8.7 ])"
      ]
     },
     "execution_count": 1140,
     "metadata": {},
     "output_type": "execute_result"
    }
   ],
   "source": [
    "logT_Table = np.array(logT_Table)\n",
    "logT_Table"
   ]
  },
  {
   "cell_type": "code",
   "execution_count": 1141,
   "id": "1f0eec6a",
   "metadata": {},
   "outputs": [
    {
     "data": {
      "text/plain": [
       "array([-8. , -7.5, -7. , -6.5, -6. , -5.5, -5. , -4.5, -4. , -3.5, -3. ,\n",
       "       -2.5, -2. , -1.5, -1. , -0.5,  0. ,  0.5,  1. ])"
      ]
     },
     "execution_count": 1141,
     "metadata": {},
     "output_type": "execute_result"
    }
   ],
   "source": [
    "logR_Table = np.array(logR_Table)\n",
    "logR_Table"
   ]
  },
  {
   "cell_type": "code",
   "execution_count": 1142,
   "id": "959cccff",
   "metadata": {},
   "outputs": [],
   "source": [
    "#create a function to accept inputs from density and temperature and interpolate\n",
    "\n",
    "# Setup the grid like scipy interpolate requires it - <function scipy.interpolate._ndgriddata.griddata(points, values, xi, method='linear', fill_value=nan, rescale=False)>\n",
    "pts = []\n",
    "vals = []\n",
    "for i in range(len(logR_Table)):\n",
    "    for j in range(len(logT_Table)):\n",
    "        pts.append([logR_Table[i], logT_Table[j]])\n",
    "        vals.append(T52.values[j][i])\n",
    "\n",
    "def calc_opacity(rho, T):\n",
    "    log_R = np.log10(rho/(1e-6*T)**3)\n",
    "    log_T = np.log10(T)\n",
    "    \n",
    "    try:\n",
    "        opacity = 10**griddata(pts, vals, (log_R, log_T))\n",
    "    except np.nan(opacity):\n",
    "        print('nan encountered')\n",
    "        print(log_R,log_T)\n",
    "\n",
    "        \n",
    "    return opacity"
   ]
  },
  {
   "cell_type": "code",
   "execution_count": 1143,
   "id": "8806c0d5",
   "metadata": {},
   "outputs": [],
   "source": [
    "#Define a function to calculate g11\n",
    "\n",
    "def g11(T):\n",
    "    T9 = T*1e-9\n",
    "    g11 = 1 + 3.82*T9 + 1.51*(T9**2) + 0.144*(T9**3) - 0.011*(T9**4)\n",
    "    \n",
    "    return g11"
   ]
  },
  {
   "cell_type": "code",
   "execution_count": 1144,
   "id": "0a110942",
   "metadata": {},
   "outputs": [],
   "source": [
    "#Define a function to calculate g14\n",
    "\n",
    "def g14(T):\n",
    "    T9 = T*1e-9\n",
    "    g14 = 1 - 2*T9 + 3.41*(T9**2) - 2.43*(T9**3)\n",
    "    \n",
    "    return g14"
   ]
  },
  {
   "cell_type": "code",
   "execution_count": 1145,
   "id": "b18a3f72",
   "metadata": {},
   "outputs": [],
   "source": [
    "#Define a function to calculate f11\n",
    "\n",
    "def f11(rho,T):\n",
    "    T7 = T*1e-7\n",
    "    Z1 = 1 #assuming pp chain\n",
    "    Z2 = 1 #assuming pp chain\n",
    "    zeta = 1 #assuming from book\n",
    "    f11 = np.exp((5.92e-3) * Z1 * Z2 * np.sqrt(zeta*rho/T7**3))\n",
    "    \n",
    "    return f11"
   ]
  },
  {
   "cell_type": "code",
   "execution_count": 1146,
   "id": "f5842a15",
   "metadata": {},
   "outputs": [],
   "source": [
    "#Define a function to calculate the energy generation rate from the PP chain\n",
    "\n",
    "def e_pp(rho,T):\n",
    "    psi = 1\n",
    "    T9 = T*1e-9\n",
    "    f_11 = f11(rho,T)\n",
    "    g_11 = g11(T)\n",
    "    X1 = 0.35 #using our X\n",
    "    e_pp = (2.57e4) * psi * f_11 * g_11 * rho*(X1**2)*(T9**(-2/3))*np.exp(-3.381/(T9**(1/3)))\n",
    "    \n",
    "    return e_pp"
   ]
  },
  {
   "cell_type": "code",
   "execution_count": 1147,
   "id": "f7b22060",
   "metadata": {},
   "outputs": [],
   "source": [
    "#Define a function to calculate the energy generation rate from the CNO cycle\n",
    "\n",
    "def e_cno(rho,T):\n",
    "    T9 = T*1e-9\n",
    "    g_14 = g14(T)\n",
    "    Z_ = 0.1 #using our Z\n",
    "    XCNO = (2/3) * Z_\n",
    "    X1 = 0.35\n",
    "    e_cno = (8.24e25) * g_14 * XCNO * X1 * rho * (T9**(-2/3)) * np.exp((-15.231*(T9**(-1/3)))-((T9/0.8)**2))\n",
    "    \n",
    "    return e_cno"
   ]
  },
  {
   "cell_type": "code",
   "execution_count": 1148,
   "id": "221f0a4b",
   "metadata": {},
   "outputs": [],
   "source": [
    "#Energy generation rate from both pp chain and cno cycle\n",
    "\n",
    "def energy_rate(rho,T):\n",
    "    epp = e_pp(rho,T)\n",
    "    ecno = e_cno(rho,T)\n",
    "    \n",
    "    return epp+ecno"
   ]
  },
  {
   "cell_type": "code",
   "execution_count": 1149,
   "id": "b88967a2",
   "metadata": {},
   "outputs": [
    {
     "data": {
      "text/plain": [
       "<matplotlib.legend.Legend at 0x7fd488254e20>"
      ]
     },
     "execution_count": 1149,
     "metadata": {},
     "output_type": "execute_result"
    },
    {
     "data": {
      "image/png": "[encoded data removed]",
      "text/plain": [
       "<Figure size 720x720 with 1 Axes>"
      ]
     },
     "metadata": {
      "needs_background": "light"
     },
     "output_type": "display_data"
    }
   ],
   "source": [
    "#Now let's replicate the plot 18.8 in KWW's book to make sure functions are correct\n",
    "plt.figure(figsize = (10,10))\n",
    "x = np.linspace(6,8,50)\n",
    "y = np.log10(energy_rate(1,10**x))\n",
    "\n",
    "plt.plot(x,y)\n",
    "plt.plot(x, np.log10(e_pp(1,10**x)),ls = '--', label = r'$\\epsilon pp $')\n",
    "plt.plot(x, np.log10(e_cno(1,10**x)), ls = '--', label = r'$\\epsilon cno$')\n",
    "plt.xlabel(r'$\\lg T$')\n",
    "plt.ylabel(r'$\\lg \\epsilon_H$')\n",
    "plt.ylim(-6,6)\n",
    "plt.legend()"
   ]
  },
  {
   "cell_type": "code",
   "execution_count": 1150,
   "id": "9653dfcb",
   "metadata": {},
   "outputs": [],
   "source": [
    "#Define a function to calculate density, assumed complete ionization so mu can be approximated to ~ 4/3+5x \n",
    "\n",
    "def rho_(P,T,X=0.35):\n",
    "    mu = 4/(3 + 5* X)\n",
    "    rho = (P - (const.a*T**4/3))*(mu/(N_A*const.k*T))\n",
    "    \n",
    "    return rho"
   ]
  },
  {
   "cell_type": "code",
   "execution_count": 1151,
   "id": "cbe39a60",
   "metadata": {},
   "outputs": [],
   "source": [
    "def delrad(m,l,P,rho,T):\n",
    "    k = calc_opacity(rho,T)\n",
    "  \n",
    "    delrad = (3/(16*np.pi*const.a*const.c*const.G))*((P*const.k)/T**4)*(l/m)\n",
    "    \n",
    "    return delrad"
   ]
  },
  {
   "cell_type": "code",
   "execution_count": 1152,
   "id": "f17968e2",
   "metadata": {},
   "outputs": [],
   "source": [
    "del_ad = ((5/3)-1)/(5/3)"
   ]
  },
  {
   "cell_type": "code",
   "execution_count": 1153,
   "id": "567bec2d",
   "metadata": {},
   "outputs": [],
   "source": [
    "#Let's create the load1 = load_in and load2 = load_out functions\n",
    "#We're going to use the constant-density model to get load1\n",
    "#We're going to use homology relations to get load2\n",
    "#Assuming full ionization in the center \n",
    "\n",
    "def load_in(Tc,Pc, factor=1e-12):\n",
    "    X = 0.35\n",
    "   \n",
    "    Ms = Msun*factor \n",
    "    rho_c = rho_(Pc,Tc,X=0.35)\n",
    "   \n",
    "    ep = energy_rate(rho_c,Tc) \n",
    "    l = ep*Ms  \n",
    "\n",
    "    #from book eq 11.3\n",
    "    P = Pc - (3*const.G/8*np.pi)*((4*np.pi*rho_c)/3)**(4/3)*(Ms**(2/3))\n",
    "    \n",
    "    #from book eq 11.6\n",
    "    r = ((3*Ms)/(4*np.pi*rho_c))**(1/3)\n",
    "   \n",
    "    #now for temperature we have to consider if we have a radiative or convective core\n",
    "    #so we use the definition of del_rad in 4.30 \n",
    "   \n",
    "    del_rad = delrad(Ms,l,P,rho_c,Tc)\n",
    "    del_ad = ((5/3)-1)/(5/3) #assuming ideal gas and that gamma1=gamma2=gamma3=gamma=5/3 (eq 3.96)\n",
    "   \n",
    "    #so now let's check which one dominates\n",
    "    \n",
    "    if del_rad < del_ad:\n",
    "\n",
    "    #for radiative let's look at 11.9 (radiative part)\n",
    "        kc = calc_opacity(rho_c, Tc)\n",
    "        T = (Tc**4 - (1/(2*const.a*const.c))*(3/(4*np.pi))**(2/3)*kc*ep*(rho_c**(4/3))*(Ms**(2/3)))**(1/4)\n",
    "    else:\n",
    "       \n",
    "    #for convective use 11.9 (convective part)    \n",
    "        T = np.exp(np.log(Tc)- ((np.pi/6)**(1/3))*G*del_ad*(rho_c**(4/3))*(Ms**(2/3))*(1/Pc))\n",
    "    \n",
    "    #returns our 4 dependent variables in array form\n",
    "    return np.array([l,P,r,T])"
   ]
  },
  {
   "cell_type": "code",
   "execution_count": 1154,
   "id": "f202f95f",
   "metadata": {},
   "outputs": [],
   "source": [
    "def rho_PgPrad(rho,T):\n",
    "\n",
    "    X = 0.35\n",
    "    mu = 4/(3 + 5* X)\n",
    "    P_gas = (1/3)*const.a*(T**4) + (N_A*const.k*rho*T)/mu\n",
    "    \n",
    "    return P_gas"
   ]
  },
  {
   "cell_type": "code",
   "execution_count": 1155,
   "id": "bbbcacdf",
   "metadata": {},
   "outputs": [],
   "source": [
    "def rho_opacity(rho,T):\n",
    "  \n",
    "    gs = const.G*Ms/(Rs**2) #surface gravity\n",
    "    T_eff = (Ls/(4*np.pi*const.sb*(Rs**2)))**(1/4)\n",
    "   \n",
    "    kappa = calc_opacity(rho, T_eff)\n",
    "    \n",
    "    P_photo = (2/3)*(gs/kappa)*(1+(const.k*Ls)/(4*np.pi*const.c*const.G*Ms))\n",
    "    \n",
    "    return P_photo "
   ]
  },
  {
   "cell_type": "code",
   "execution_count": 1156,
   "id": "25302f2d",
   "metadata": {},
   "outputs": [],
   "source": [
    "def rho_min(rho,T):\n",
    "    \n",
    "    diff = 1 - rho_opacity(rho,T)/rho_PgPrad(rho,T)\n",
    "    \n",
    "    return np.abs(diff**2)"
   ]
  },
  {
   "cell_type": "code",
   "execution_count": 1157,
   "id": "39f98ace",
   "metadata": {},
   "outputs": [
    {
     "data": {
      "text/plain": [
       "array([1.53445136e+36, 3.01221374e+03, 1.78098505e+11, 1.61417326e+04])"
      ]
     },
     "execution_count": 1157,
     "metadata": {},
     "output_type": "execute_result"
    }
   ],
   "source": [
    "load_out(6.958e+33,1.5344513557801265e+36,178098504574.71844)"
   ]
  },
  {
   "cell_type": "code",
   "execution_count": 1158,
   "id": "adfca17a",
   "metadata": {},
   "outputs": [],
   "source": [
    "def load_out(Ms,Ls,Rs, factor=0.9999):\n",
    "    X = 0.35\n",
    "    mu = 4/(3 + 5* X)\n",
    "   \n",
    "    gs = const.G*Ms/(Rs**2) #surface gravity\n",
    "    T_eff = (Ls/(4*np.pi*const.sb*(Rs**2)))**(1/4)\n",
    "  \n",
    "    #now let's use a minimizer to find the min diff between them\n",
    "    rho_final = optimize.minimize(rho_min, 1e-8, args = (T_eff), method='Nelder-Mead', bounds=[(1e-13,1e-5)])\n",
    "\n",
    "    if rho_final.success:\n",
    "        rho = rho_final.x[0]\n",
    "    else:\n",
    "        print('no rho')\n",
    "        \n",
    "    kappa = calc_opacity(rho, T_eff)\n",
    "    P = (2/3)*(gs/kappa)*(1+(const.k*Ls)/(4*np.pi*const.c*const.G*Ms))\n",
    "    \n",
    "    #returns our 4 dependent variables in array form\n",
    "    return np.array([Ls,P,Rs,T_eff])"
   ]
  },
  {
   "cell_type": "code",
   "execution_count": 1159,
   "id": "911a7756",
   "metadata": {},
   "outputs": [],
   "source": [
    "#Lets define a function for the 4 differential equations\n",
    "\n",
    "def derivs(M,var):\n",
    "    \n",
    "    l,P,r,T = var\n",
    "    \n",
    "    rho = rho_(P,T,X = 0.35)\n",
    "    del_rad = delrad(M,l,P,rho,T)\n",
    "    del_f = np.minimum(del_rad,del_ad)\n",
    "    \n",
    "    dldm = energy_rate(rho,T)\n",
    "    dPdm = (-const.G*M)/(4*np.pi*(r**4))\n",
    "    drdm = 1/(4*np.pi*(r**2)*rho)\n",
    "    dTdm = ((-const.G*M*T)/(4*np.pi*(r**4)*P))*del_f\n",
    "    \n",
    "    derivs = np.array([dldm,dPdm,drdm,dTdm])\n",
    "    \n",
    "    return derivs"
   ]
  },
  {
   "cell_type": "code",
   "execution_count": 1168,
   "id": "0fcca3d3",
   "metadata": {},
   "outputs": [],
   "source": [
    "#Now finally, let's create our shooting function following the \"shootf\" function\n",
    "\n",
    "def shoot(guesses, Ms = 3.5*Msun, fit = 0.5, n=int(1e5), in_factor=1e-12, out_factor=0.9999):\n",
    "    \n",
    "    #vector with initial guesses\n",
    "    Ls, Pc, Rs, Tc = guesses \n",
    "   \n",
    "    in_ = load_in(Tc,Pc, factor=in_factor)\n",
    "    out_ = load_out(Ms,Ls,Rs, factor=out_factor)\n",
    "   \n",
    "    # crash minimizer if nan values appear\n",
    "    if np.isnan(np.sum(in_)) or np.isnan(np.sum(out_)):\n",
    "        print('nan values')\n",
    "        return np.array([-np.inf, -np.inf, -np.inf, -np.inf])\n",
    "    \n",
    "    # array of masses to solve across\n",
    "    leaving = np.linspace(in_factor*Ms, fit*Ms, num = n)\n",
    "    entering = np.linspace(out_factor*Ms,fit*Ms, num = n)\n",
    "    \n",
    "    #from core to surface\n",
    "    sol_core = solve_ivp(derivs, (leaving[0], leaving[-1]), in_, method='RK45', t_eval=leaving)\n",
    "    \n",
    "    # determine success of core->surface \n",
    "    if sol_core.status == 0:\n",
    "        # report success\n",
    "        print('inner done')\n",
    "    else:\n",
    "        # report failure\n",
    "        print('inner failed', sol_core.message)\n",
    "    \n",
    "    # solve from surface to core\n",
    "    sol_surf = solve_ivp(derivs, (entering[0], entering[-1]), out_, method='RK45', t_eval=entering)\n",
    "    \n",
    "    # determine success of surface->core \n",
    "    if sol_surf.status == 0:\n",
    "        # report success\n",
    "        print('outer done')\n",
    "    else:\n",
    "        # report failure\n",
    "        print('outer failed', sol_surf.message)\n",
    "    \n",
    "     # assign integrated solution to variables\n",
    "    leaving_sol = sol_core.y\n",
    "    entering_sol = sol_surf.y\n",
    "\n",
    "    \n",
    "    # determine the difference at the shooting point\n",
    "    dL = (leaving_sol[0,-1] - entering_sol[0,-1])/Ls\n",
    "    dP = (leaving_sol[1,-1] - entering_sol[1,-1])/Pc\n",
    "    dR = (leaving_sol[2,-1] - entering_sol[2,-1])/Rs\n",
    "    dT = (leaving_sol[3,-1] - entering_sol[3,-1])/Tc\n",
    "    # return residual array\n",
    "    print(np.array([dL, dP, dR, dT]))\n",
    "    return np.array([dL, dP, dR, dT])\n",
    "\n",
    "def solv(vec_final, Ms= 3.5*Msun, fit=0.5,\n",
    "            n=int(1e5), in_factor=1e-12, out_factor=0.9999):\n",
    "\n",
    "    Ls, Pc, Rs, Tc = vec_final\n",
    "   \n",
    "    in_ = load_in(Tc, Pc, factor=in_factor)\n",
    "    out_ = load_out(Ms, Ls, Rs, factor=out_factor)\n",
    "\n",
    "    leaving = np.linspace(in_factor*Ms, fit*Ms, num = int(n))\n",
    "    entering = np.linspace(out_factor*Ms,fit*Ms, num = int(n))\n",
    "    \n",
    "    sol_core = solve_ivp(derivs, (leaving[0], leaving[-1]), in_, method='RK45', t_eval=leaving)\n",
    "    sol_surf = solve_ivp(derivs, (entering[0], entering[-1]), out_, method='RK45', t_eval=entering)\n",
    "\n",
    "    leaving_sol = sol_core.y\n",
    "    entering_sol = sol_surf.y\n",
    "    \n",
    "    # combine mass arrays\n",
    "    \n",
    "    mass = np.concatenate([leaving, np.flipud(entering)], axis=0)\n",
    "    \n",
    "    # add mass to final array\n",
    "    solution = np.zeros((5, mass.shape[0]))\n",
    "    solution[0] = mass\n",
    "    \n",
    "    # combine solution arrays\n",
    "    sols = np.concatenate([leaving_sol, np.fliplr(entering_sol)], axis=1)\n",
    "    solution[1:5] = sols\n",
    "\n",
    "    \n",
    "    return solution\n",
    "    \n",
    "    "
   ]
  },
  {
   "cell_type": "code",
   "execution_count": 1091,
   "id": "92dfa91a",
   "metadata": {},
   "outputs": [],
   "source": [
    "def rho_PgPrad(rho,T):\n",
    " \n",
    "    X = 0.35\n",
    "    mu = 4/(3 + 5* X)\n",
    "   \n",
    "    P_gas = (1/3)*const.a*(T**4) + (N_A*const.k*rho*T)/mu\n",
    "    return P_gas"
   ]
  },
  {
   "cell_type": "code",
   "execution_count": 1092,
   "id": "a2db02b6",
   "metadata": {},
   "outputs": [
    {
     "data": {
      "text/plain": [
       "array([9.40000243e+35, 2.29833877e+16, 2.61756961e+11, 2.06877853e+07])"
      ]
     },
     "execution_count": 1092,
     "metadata": {},
     "output_type": "execute_result"
    }
   ],
   "source": [
    "#Mesa values\n",
    "\n",
    "mesa_Tc = (10**7.315714) #lg_Tcntr\n",
    "mesa_rho= (10**1.042413) #lg_Dcnter\n",
    "\n",
    "mesa_Pc = (rho_PgPrad(mesa_rho, mesa_Tc))\n",
    "mesa_R = (10**0.575289)*Rsun #lg_R\n",
    "mesa_L = (10**2.390383)*Lsun #lg_L\n",
    "\n",
    "MESA = np.array([mesa_L,mesa_Pc,mesa_R,mesa_Tc])\n",
    "MESA"
   ]
  },
  {
   "cell_type": "code",
   "execution_count": 1017,
   "id": "16e3658d",
   "metadata": {
    "scrolled": true
   },
   "outputs": [
    {
     "name": "stdout",
     "output_type": "stream",
     "text": [
      "Percent Errors: [63.2394638  66.76292212 31.9603559  22.62638025]\n"
     ]
    }
   ],
   "source": [
    "print('Percent Errors: {}'.format(abs(MESA - final.x) / MESA * 100))  # Find percent differences"
   ]
  },
  {
   "cell_type": "code",
   "execution_count": 1175,
   "id": "5e4bd39e",
   "metadata": {
    "scrolled": true
   },
   "outputs": [],
   "source": [
    "# #Let's run it - Commented out because ran already and solution loaded below\n",
    "\n",
    "# #surface\n",
    "# Ms = 3.5*Msun\n",
    "# Ls = (Ms/Msun)**(3.5)*Lsun # eq. 1.88 from Stellar Interiors\n",
    "# Rs = (Ms/Msun)**(0.75)*Rsun # eq. 1.87 from Stellar Interiors\n",
    "# # core\n",
    "# Pc = (3/(8*np.pi))*(const.G*(Ms)**2)/(Rs)**4 # constant density sphere\n",
    "# Tc = (1/2)*((4/(3+5*0.35))/(N_A*const.k))*(const.G*Ms)/(Rs) # constant density sphere\n",
    "\n",
    "# # initial guess vector\n",
    "# vec = np.array([Ls*5,Pc*50,Rs,Tc])\n",
    "\n",
    "# # shootf args\n",
    "# args = (Ms, 0.3, int(1e5), 1e-12, 0.9999)\n",
    "# # set limits for the minimizer\n",
    "# bounds = ([Ls*1e-1,Pc,Rs,Tc*1e-1],[Ls*10, Pc*100, Rs*1e1, Tc*1e1])\n",
    "\n",
    "\n",
    "\n",
    "# # run least_squares minimizer to converge model\n",
    "# # equivalent to the \"newton\" solver \n",
    "# # this minimizes the difference between two shootf runs\n",
    "# final = least_squares(shoot, vec, args=args, bounds=bounds,\n",
    "#                       method='dogbox', loss='arctan',\n",
    "#                       gtol=None,\n",
    "#                       xtol=None,\n",
    "#                       ftol=1e-6,\n",
    "#                       x_scale='jac',\n",
    "#                      )\n",
    "\n",
    "# print(final)\n",
    "\n",
    "# # run solution and create table with results\n",
    "# solution = solv(final.x, Ms=args[0], fit=args[1], n=1e5, in_factor=args[3], out_factor=args[4])\n",
    "\n",
    "# Ls, Pc, Rs, Tc = final.x\n",
    "\n",
    "# # # save dense results table to disk\n",
    "# # with open('converged_interior_{}.npy'.format(Ms/Msun), 'wb') as f:\n",
    "# #     np.save(f, solution)"
   ]
  },
  {
   "cell_type": "code",
   "execution_count": 1010,
   "id": "d634dece",
   "metadata": {},
   "outputs": [
    {
     "data": {
      "text/plain": [
       "<matplotlib.legend.Legend at 0x7fcf4819a7c0>"
      ]
     },
     "execution_count": 1010,
     "metadata": {},
     "output_type": "execute_result"
    },
    {
     "data": {
      "image/png": "[encoded data removed]",
      "text/plain": [
       "<Figure size 864x720 with 1 Axes>"
      ]
     },
     "metadata": {
      "needs_background": "light"
     },
     "output_type": "display_data"
    }
   ],
   "source": [
    "# plotting\n",
    "\n",
    "# guesses\n",
    "# surface\n",
    "M_star = 3.5*Msun\n",
    "L_star = (M_star/Msun)**(3.5)*Lsun # eq. 1.88 from Stellar Interior\n",
    "R_star = (M_star/Msun)**(0.75)*Rsun # eq. 1.87 from Stellar Interior\n",
    "# core\n",
    "Pc = (3/(8*np.pi))*(G*(M_star)**2)/(R_star)**4 # constant density sphere,\n",
    "Tc = (1/2)*((4/(3+5*0.7))/(N_A*const.k))*(const.G*M_star)/(R_star) # constant density sphere\n",
    "\n",
    "# load solution\n",
    "solution = np.load('converged_interior_{}.npy'.format(M_star/Msun),allow_pickle=True)\n",
    "\n",
    "#plot solution\n",
    "plt.figure(figsize=(12,10))\n",
    "\n",
    "# plt.plot(solution[0]/M_star, solution[5]/solution[5].max(), color='cornflowerblue', label=r'$\\rho~[g/cm^3]$'.format())\n",
    "plt.plot(solution[0]/M_star, solution[2]/solution[2].max(),linestyle= '--', label=r'$P/P_c$')\n",
    "plt.plot(solution[0]/M_star, solution[4]/solution[4].max(), linestyle= '--',label='$T/T_c$')\n",
    "plt.plot(solution[0]/M_star, solution[1]/solution[1].max(),label=r'$L/L_*$')\n",
    "plt.plot(solution[0]/M_star, solution[3]/solution[3].max(),linestyle= '--', label=r'$r/R_*$')\n",
    "\n",
    "\n",
    "plt.xlabel(r'M$_\\mathrm{r}$ [M$_\\star$]',fontsize=15)\n",
    "plt.ylabel(r'Normalized Quantity', fontsize=15)\n",
    "plt.legend(fontsize=13, bbox_to_anchor=(0.55,0.5))\n",
    "plt.xlim(-0.1,1.1)\n",
    "plt.legend(loc='best')"
   ]
  },
  {
   "cell_type": "code",
   "execution_count": null,
   "id": "b792ff25",
   "metadata": {},
   "outputs": [],
   "source": []
  }
 ],
 "metadata": {
  "kernelspec": {
   "display_name": "Python 3",
   "language": "python",
   "name": "python3"
  },
  "language_info": {
   "codemirror_mode": {
    "name": "ipython",
    "version": 3
   },
   "file_extension": ".py",
   "mimetype": "text/x-python",
   "name": "python",
   "nbconvert_exporter": "python",
   "pygments_lexer": "ipython3",
   "version": "3.8.8"
  }
 },
 "nbformat": 4,
 "nbformat_minor": 5
}
